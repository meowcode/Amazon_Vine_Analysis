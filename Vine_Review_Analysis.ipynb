{
  "nbformat": 4,
  "nbformat_minor": 0,
  "metadata": {
    "colab": {
      "provenance": [],
      "authorship_tag": "ABX9TyPySmtZCwJCYs13aJcRJL5p",
      "include_colab_link": true
    },
    "kernelspec": {
      "name": "python3",
      "display_name": "Python 3"
    },
    "language_info": {
      "name": "python"
    }
  },
  "cells": [
    {
      "cell_type": "markdown",
      "metadata": {
        "id": "view-in-github",
        "colab_type": "text"
      },
      "source": [
        "<a href=\"https://colab.research.google.com/github/meowcode/Amazon_Vine_Analysis/blob/main/Vine_Review_Analysis.ipynb\" target=\"_parent\"><img src=\"https://colab.research.google.com/assets/colab-badge.svg\" alt=\"Open In Colab\"/></a>"
      ]
    },
    {
      "cell_type": "code",
      "execution_count": 1,
      "metadata": {
        "colab": {
          "base_uri": "https://localhost:8080/"
        },
        "id": "d8sD-_TPQfO5",
        "outputId": "9233d488-8ae8-4e77-bde7-ce8ea15c4f0b"
      },
      "outputs": [
        {
          "output_type": "stream",
          "name": "stdout",
          "text": [
            "\r0% [Working]\r            \rGet:1 https://cloud.r-project.org/bin/linux/ubuntu bionic-cran40/ InRelease [3,626 B]\n",
            "\r0% [Connecting to archive.ubuntu.com (185.125.190.39)] [Connecting to security.\r0% [Connecting to archive.ubuntu.com (185.125.190.39)] [Connecting to security.\r0% [1 InRelease gpgv 3,626 B] [Connecting to archive.ubuntu.com (185.125.190.39\r                                                                               \rIgn:2 https://developer.download.nvidia.com/compute/machine-learning/repos/ubuntu1804/x86_64  InRelease\n",
            "\r0% [1 InRelease gpgv 3,626 B] [Connecting to archive.ubuntu.com (185.125.190.39\r                                                                               \rHit:3 https://developer.download.nvidia.com/compute/cuda/repos/ubuntu1804/x86_64  InRelease\n",
            "Hit:4 https://developer.download.nvidia.com/compute/machine-learning/repos/ubuntu1804/x86_64  Release\n",
            "Get:5 http://security.ubuntu.com/ubuntu bionic-security InRelease [88.7 kB]\n",
            "Hit:6 http://archive.ubuntu.com/ubuntu bionic InRelease\n",
            "Get:7 http://ppa.launchpad.net/c2d4u.team/c2d4u4.0+/ubuntu bionic InRelease [15.9 kB]\n",
            "Get:8 http://archive.ubuntu.com/ubuntu bionic-updates InRelease [88.7 kB]\n",
            "Get:9 https://cloud.r-project.org/bin/linux/ubuntu bionic-cran40/ Packages [92.1 kB]\n",
            "Hit:10 http://ppa.launchpad.net/cran/libgit2/ubuntu bionic InRelease\n",
            "Get:11 http://archive.ubuntu.com/ubuntu bionic-backports InRelease [74.6 kB]\n",
            "Hit:12 http://ppa.launchpad.net/deadsnakes/ppa/ubuntu bionic InRelease\n",
            "Hit:14 http://ppa.launchpad.net/graphics-drivers/ppa/ubuntu bionic InRelease\n",
            "Get:15 http://ppa.launchpad.net/c2d4u.team/c2d4u4.0+/ubuntu bionic/main Sources [2,108 kB]\n",
            "Get:16 http://security.ubuntu.com/ubuntu bionic-security/main amd64 Packages [2,990 kB]\n",
            "Get:17 http://security.ubuntu.com/ubuntu bionic-security/universe amd64 Packages [1,545 kB]\n",
            "Get:18 http://ppa.launchpad.net/c2d4u.team/c2d4u4.0+/ubuntu bionic/main amd64 Packages [1,080 kB]\n",
            "Get:19 http://security.ubuntu.com/ubuntu bionic-security/restricted amd64 Packages [1,161 kB]\n",
            "Get:20 http://archive.ubuntu.com/ubuntu bionic-updates/universe amd64 Packages [2,322 kB]\n",
            "Get:21 http://archive.ubuntu.com/ubuntu bionic-updates/main amd64 Packages [3,422 kB]\n",
            "Get:22 http://archive.ubuntu.com/ubuntu bionic-updates/restricted amd64 Packages [1,202 kB]\n",
            "Fetched 16.2 MB in 7s (2,389 kB/s)\n",
            "Reading package lists... Done\n"
          ]
        }
      ],
      "source": [
        "import os\n",
        "# Find the latest version of spark 3.0  from http://www.apache.org/dist/spark/ and enter as the spark version\n",
        "# For example:\n",
        "# spark_version = 'spark-3.0.3'\n",
        "spark_version = 'spark-3.3.0'\n",
        "os.environ['SPARK_VERSION']=spark_version\n",
        "\n",
        "# Install Spark and Java\n",
        "!apt-get update\n",
        "!apt-get install openjdk-11-jdk-headless -qq > /dev/null\n",
        "!wget -q http://www.apache.org/dist/spark/$SPARK_VERSION/$SPARK_VERSION-bin-hadoop2.tgz\n",
        "!tar xf $SPARK_VERSION-bin-hadoop2.tgz\n",
        "!pip install -q findspark\n",
        "\n",
        "# Set Environment Variables\n",
        "os.environ[\"JAVA_HOME\"] = \"/usr/lib/jvm/java-11-openjdk-amd64\"\n",
        "os.environ[\"SPARK_HOME\"] = f\"/content/{spark_version}-bin-hadoop2\"\n",
        "\n",
        "# Start a SparkSession\n",
        "import findspark\n",
        "findspark.init()"
      ]
    },
    {
      "cell_type": "code",
      "source": [
        "from pyspark.sql import SparkSession\n",
        "spark = SparkSession.builder.appName(\"M16-Amazon-Challenge\").config(\"spark.driver.extraClassPath\",\"/content/postgresql-42.2.16.jar\").getOrCreate()"
      ],
      "metadata": {
        "id": "pmPjX4Z8RNY1"
      },
      "execution_count": 4,
      "outputs": []
    },
    {
      "cell_type": "code",
      "source": [
        "from pyspark import SparkFiles\n",
        "url = \"https://s3.amazonaws.com/amazon-reviews-pds/tsv/amazon_reviews_us_Pet_Products_v1_00.tsv.gz\"\n",
        "spark.sparkContext.addFile(url)\n",
        "df = spark.read.option(\"encoding\", \"UTF-8\").csv(SparkFiles.get(\"\"), sep=\"\\t\", header=True, inferSchema=True)\n",
        "df.show()"
      ],
      "metadata": {
        "colab": {
          "base_uri": "https://localhost:8080/"
        },
        "id": "S4jhZ-VoRNjA",
        "outputId": "54da44cb-dc1e-4c60-c1e0-aaf8e3286e35"
      },
      "execution_count": 5,
      "outputs": [
        {
          "output_type": "stream",
          "name": "stdout",
          "text": [
            "+-----------+-----------+--------------+----------+--------------+--------------------+----------------+-----------+-------------+-----------+----+-----------------+--------------------+--------------------+-------------------+\n",
            "|marketplace|customer_id|     review_id|product_id|product_parent|       product_title|product_category|star_rating|helpful_votes|total_votes|vine|verified_purchase|     review_headline|         review_body|        review_date|\n",
            "+-----------+-----------+--------------+----------+--------------+--------------------+----------------+-----------+-------------+-----------+----+-----------------+--------------------+--------------------+-------------------+\n",
            "|         US|   28794885| REAKC26P07MDN|B00Q0K9604|     510387886|(8-Pack) EZwhelp ...|    Pet Products|          5|            0|          0|   N|                Y|A great purchase ...|Best belly bands ...|2015-08-31 00:00:00|\n",
            "|         US|   11488901|R3NU7OMZ4HQIEG|B00MBW5O9W|     912374672|Warren Eckstein's...|    Pet Products|          2|            0|          1|   N|                Y|My dogs love Hugs...|My dogs love Hugs...|2015-08-31 00:00:00|\n",
            "|         US|   43214993|R14QJW3XF8QO1P|B0084OHUIO|     902215727|Tyson's True Chew...|    Pet Products|          5|            0|          0|   N|                Y|I have been purch...|I have been purch...|2015-08-31 00:00:00|\n",
            "|         US|   12835065|R2HB7AX0394ZGY|B001GS71K2|     568880110|Soft Side Pet Cra...|    Pet Products|          5|            0|          0|   N|                Y|it is easy to ope...|It is extremely w...|2015-08-31 00:00:00|\n",
            "|         US|   26334022| RGKMPDQGSAHR3|B004ABH1LG|     692846826|EliteField 3-Door...|    Pet Products|          5|            0|          0|   N|                Y|           Dog crate|Worked really wel...|2015-08-31 00:00:00|\n",
            "|         US|   22283621|R1DJCVPQGCV66E|B00AX0LFM4|     590674141|Carlson 68-Inch W...|    Pet Products|          5|            0|          0|   N|                Y|          Five Stars|I love my gates! ...|2015-08-31 00:00:00|\n",
            "|         US|   14469895|R3V52EAWLPBFQG|B00DQFZGZ0|     688538603|Dog Seat Cover Wi...|    Pet Products|          3|            0|          0|   N|                Y|Seat belt tugs on...|Didn't quite work...|2015-08-31 00:00:00|\n",
            "|         US|   50896354|R3DKO8J1J28QBI|B00DIRF9US|     742358789|The Bird Catcher ...|    Pet Products|          2|            0|          0|   N|                Y|Great Pole, but S...|I had the origina...|2015-08-31 00:00:00|\n",
            "|         US|   18440567| R764DBXGRNECG|B00JRCBFUG|     869798483|Cat Bed - Purrfec...|    Pet Products|          5|            1|          1|   N|                N|     My cat loves it|The pad is very s...|2015-08-31 00:00:00|\n",
            "|         US|   50502362| RW1853GAT0Z9F|B000L3XYZ4|     501118658|PetSafe Drinkwell...|    Pet Products|          5|            0|          0|   N|                Y|          Five Stars|My cat drinks mor...|2015-08-31 00:00:00|\n",
            "|         US|   33930128|R33GITXNUF1AD4|B00BOEXWFG|     454737777|Contech ZenDog Ca...|    Pet Products|          2|            0|          0|   N|                Y|Also had to pull ...|Much smaller than...|2015-08-31 00:00:00|\n",
            "|         US|   43534290|R1H7AVM81TAYRV|B001HBBQKY|     420905252|Wellness Crunchy ...|    Pet Products|          1|            2|          2|   N|                Y|DO NOT PURCHASE -...|I used to love th...|2015-08-31 00:00:00|\n",
            "|         US|   45555864|R2ZOYAQZNNZZWV|B007O1FHB0|     302588963|Rx Vitamins Essen...|    Pet Products|          5|            0|          0|   N|                Y|          Five Stars|Recommended by my...|2015-08-31 00:00:00|\n",
            "|         US|   11147406|R2FN1H3CGW6J8H|B001P3NU30|     525778264|Virbac C.E.T. Enz...|    Pet Products|          1|            0|          0|   N|                Y|Received wrong pr...|Yes I  ordered fo...|2015-08-31 00:00:00|\n",
            "|         US|    6495678| RJB41Q575XNG4|B00ZP6HS6S|     414117299|Kitty Shack - 2 i...|    Pet Products|          5|            0|          3|   N|                Y|          Five Stars|      It falls apart|2015-08-31 00:00:00|\n",
            "|         US|    2019416|R28W8BM1587CPF|B00IP05CUA|     833937853|Wellness Kittles ...|    Pet Products|          5|            0|          0|   N|                Y|kitty is ravenous...|My cat really lov...|2015-08-31 00:00:00|\n",
            "|         US|   40459386|R1II0M01NIG293|B001U8Y598|      85343577|OmniPet Anti-Ant ...|    Pet Products|          2|            0|          0|   N|                N|Maybe other speci...|This bowl is not ...|2015-08-31 00:00:00|\n",
            "|         US|   23126800| RMB8N0DBRH34O|B011AY4JWO|     499241195|K9KONNECTION [New...|    Pet Products|          5|            1|          1|   N|                Y|This works, dog n...|I have a small do...|2015-08-31 00:00:00|\n",
            "|         US|   30238476|R24WB6A6WVIPU6|B00DDSHE5A|     409532388|SUNSEED COMPANY 3...|    Pet Products|          5|            0|          0|   N|                Y|    Yummy for Bunny!|Bunny loves it! E...|2015-08-31 00:00:00|\n",
            "|         US|   35113999| ROCJSH0P9YSRW|B00PJW5OR8|     259271919|CXB1983(TM)Cute P...|    Pet Products|          5|            0|          0|   N|                Y|excellent price, ...|Petfect,,quality ...|2015-08-31 00:00:00|\n",
            "+-----------+-----------+--------------+----------+--------------+--------------------+----------------+-----------+-------------+-----------+----+-----------------+--------------------+--------------------+-------------------+\n",
            "only showing top 20 rows\n",
            "\n"
          ]
        }
      ]
    },
    {
      "cell_type": "code",
      "source": [
        "from pyspark.sql.functions import to_date\n",
        "# Read in the Review dataset as a DataFrame\n",
        "review = df.select([\"customer_id\",\"product_title\",\"product_id\",\"star_rating\",\"review_headline\", \"review_body\"])\n",
        "review.show()"
      ],
      "metadata": {
        "colab": {
          "base_uri": "https://localhost:8080/"
        },
        "id": "MCWzJ21HRNmG",
        "outputId": "ddeb9cf3-54df-4028-d988-cf4492af53d1"
      },
      "execution_count": 6,
      "outputs": [
        {
          "output_type": "stream",
          "name": "stdout",
          "text": [
            "+-----------+--------------------+----------+-----------+--------------------+--------------------+\n",
            "|customer_id|       product_title|product_id|star_rating|     review_headline|         review_body|\n",
            "+-----------+--------------------+----------+-----------+--------------------+--------------------+\n",
            "|   28794885|(8-Pack) EZwhelp ...|B00Q0K9604|          5|A great purchase ...|Best belly bands ...|\n",
            "|   11488901|Warren Eckstein's...|B00MBW5O9W|          2|My dogs love Hugs...|My dogs love Hugs...|\n",
            "|   43214993|Tyson's True Chew...|B0084OHUIO|          5|I have been purch...|I have been purch...|\n",
            "|   12835065|Soft Side Pet Cra...|B001GS71K2|          5|it is easy to ope...|It is extremely w...|\n",
            "|   26334022|EliteField 3-Door...|B004ABH1LG|          5|           Dog crate|Worked really wel...|\n",
            "|   22283621|Carlson 68-Inch W...|B00AX0LFM4|          5|          Five Stars|I love my gates! ...|\n",
            "|   14469895|Dog Seat Cover Wi...|B00DQFZGZ0|          3|Seat belt tugs on...|Didn't quite work...|\n",
            "|   50896354|The Bird Catcher ...|B00DIRF9US|          2|Great Pole, but S...|I had the origina...|\n",
            "|   18440567|Cat Bed - Purrfec...|B00JRCBFUG|          5|     My cat loves it|The pad is very s...|\n",
            "|   50502362|PetSafe Drinkwell...|B000L3XYZ4|          5|          Five Stars|My cat drinks mor...|\n",
            "|   33930128|Contech ZenDog Ca...|B00BOEXWFG|          2|Also had to pull ...|Much smaller than...|\n",
            "|   43534290|Wellness Crunchy ...|B001HBBQKY|          1|DO NOT PURCHASE -...|I used to love th...|\n",
            "|   45555864|Rx Vitamins Essen...|B007O1FHB0|          5|          Five Stars|Recommended by my...|\n",
            "|   11147406|Virbac C.E.T. Enz...|B001P3NU30|          1|Received wrong pr...|Yes I  ordered fo...|\n",
            "|    6495678|Kitty Shack - 2 i...|B00ZP6HS6S|          5|          Five Stars|      It falls apart|\n",
            "|    2019416|Wellness Kittles ...|B00IP05CUA|          5|kitty is ravenous...|My cat really lov...|\n",
            "|   40459386|OmniPet Anti-Ant ...|B001U8Y598|          2|Maybe other speci...|This bowl is not ...|\n",
            "|   23126800|K9KONNECTION [New...|B011AY4JWO|          5|This works, dog n...|I have a small do...|\n",
            "|   30238476|SUNSEED COMPANY 3...|B00DDSHE5A|          5|    Yummy for Bunny!|Bunny loves it! E...|\n",
            "|   35113999|CXB1983(TM)Cute P...|B00PJW5OR8|          5|excellent price, ...|Petfect,,quality ...|\n",
            "+-----------+--------------------+----------+-----------+--------------------+--------------------+\n",
            "only showing top 20 rows\n",
            "\n"
          ]
        }
      ]
    },
    {
      "cell_type": "code",
      "source": [
        "# Create the vine_table. DataFrame\n",
        "vine_df = df.select([\"review_id\", \"star_rating\", \"helpful_votes\", \"total_votes\", \"vine\", \"verified_purchase\"])\n",
        "vine_df.show()"
      ],
      "metadata": {
        "colab": {
          "base_uri": "https://localhost:8080/"
        },
        "id": "yLp0euQcRNtk",
        "outputId": "ee704c7a-fba3-4247-ce62-65461d998a9a"
      },
      "execution_count": 10,
      "outputs": [
        {
          "output_type": "stream",
          "name": "stdout",
          "text": [
            "+--------------+-----------+-------------+-----------+----+-----------------+\n",
            "|     review_id|star_rating|helpful_votes|total_votes|vine|verified_purchase|\n",
            "+--------------+-----------+-------------+-----------+----+-----------------+\n",
            "| REAKC26P07MDN|          5|            0|          0|   N|                Y|\n",
            "|R3NU7OMZ4HQIEG|          2|            0|          1|   N|                Y|\n",
            "|R14QJW3XF8QO1P|          5|            0|          0|   N|                Y|\n",
            "|R2HB7AX0394ZGY|          5|            0|          0|   N|                Y|\n",
            "| RGKMPDQGSAHR3|          5|            0|          0|   N|                Y|\n",
            "|R1DJCVPQGCV66E|          5|            0|          0|   N|                Y|\n",
            "|R3V52EAWLPBFQG|          3|            0|          0|   N|                Y|\n",
            "|R3DKO8J1J28QBI|          2|            0|          0|   N|                Y|\n",
            "| R764DBXGRNECG|          5|            1|          1|   N|                N|\n",
            "| RW1853GAT0Z9F|          5|            0|          0|   N|                Y|\n",
            "|R33GITXNUF1AD4|          2|            0|          0|   N|                Y|\n",
            "|R1H7AVM81TAYRV|          1|            2|          2|   N|                Y|\n",
            "|R2ZOYAQZNNZZWV|          5|            0|          0|   N|                Y|\n",
            "|R2FN1H3CGW6J8H|          1|            0|          0|   N|                Y|\n",
            "| RJB41Q575XNG4|          5|            0|          3|   N|                Y|\n",
            "|R28W8BM1587CPF|          5|            0|          0|   N|                Y|\n",
            "|R1II0M01NIG293|          2|            0|          0|   N|                N|\n",
            "| RMB8N0DBRH34O|          5|            1|          1|   N|                Y|\n",
            "|R24WB6A6WVIPU6|          5|            0|          0|   N|                Y|\n",
            "| ROCJSH0P9YSRW|          5|            0|          0|   N|                Y|\n",
            "+--------------+-----------+-------------+-----------+----+-----------------+\n",
            "only showing top 20 rows\n",
            "\n"
          ]
        }
      ]
    },
    {
      "cell_type": "code",
      "source": [
        "# retrieve all the rows where the total_votes count is equal to or greater than 20 to pick reviews \n",
        "from pyspark.sql.functions import col\n",
        "total_votes_df = vine_df.filter(col(\"total_votes\") >= 20)\n",
        "total_votes_df.show()"
      ],
      "metadata": {
        "colab": {
          "base_uri": "https://localhost:8080/"
        },
        "id": "tagGi_NpRNv7",
        "outputId": "f52bae63-7a24-43e5-e6e3-629666a9f5ed"
      },
      "execution_count": 11,
      "outputs": [
        {
          "output_type": "stream",
          "name": "stdout",
          "text": [
            "+--------------+-----------+-------------+-----------+----+-----------------+\n",
            "|     review_id|star_rating|helpful_votes|total_votes|vine|verified_purchase|\n",
            "+--------------+-----------+-------------+-----------+----+-----------------+\n",
            "|R21KC552Y6HL8X|          1|           27|         31|   N|                Y|\n",
            "| RX9WC9FTIR1XR|          5|           25|         25|   N|                Y|\n",
            "| RGDCOU1KBHMNG|          3|           29|         31|   N|                Y|\n",
            "| RVTYWID2TPMMY|          2|           35|         42|   N|                Y|\n",
            "|R2CMPZ5VESGRLY|          4|           27|         28|   N|                Y|\n",
            "|R3VQPJZ54B55BA|          5|           62|         64|   N|                N|\n",
            "|R24QM6D7FEDZ5M|          2|           36|         43|   N|                Y|\n",
            "|R3A1VQ3SQDXEJ3|          5|           20|         20|   N|                Y|\n",
            "|  R39GSNW76GYF|          1|           20|         23|   N|                Y|\n",
            "| RPJLR6MFDPXXE|          5|           35|         36|   N|                Y|\n",
            "|R34X0ZGVB3YGYO|          5|           47|         47|   N|                Y|\n",
            "|R2C9O1BOV14Q0Z|          1|           62|         79|   N|                Y|\n",
            "| RM6ZH5J3XDNHK|          5|           79|         87|   N|                Y|\n",
            "|R2E363K75EMW4K|          5|           66|         69|   N|                Y|\n",
            "|R2VJII8VKSJHDF|          1|           24|         29|   N|                N|\n",
            "|R2U35Y2P27M13E|          1|           43|         45|   N|                Y|\n",
            "| RLMZOQL11VHBX|          5|           23|         24|   N|                Y|\n",
            "|R3C6CQQRRA8SYP|          5|           52|         58|   N|                Y|\n",
            "|R3T7YOX0AEDZL3|          1|           45|         47|   N|                N|\n",
            "|R176V3AYS3R4HG|          5|           26|         27|   N|                N|\n",
            "+--------------+-----------+-------------+-----------+----+-----------------+\n",
            "only showing top 20 rows\n",
            "\n"
          ]
        }
      ]
    },
    {
      "cell_type": "code",
      "source": [
        "# retrieve all the rows where the number of helpful_votes divided by total_votes is equal to or greater than 50%.\n",
        "helpful_votes = total_votes_df.withColumn('percent_votes',col('helpful_votes')/col('total_votes')).alias('percent_votes').filter(col(\"percent_votes\") >= 0.5)\n",
        "helpful_votes.show()"
      ],
      "metadata": {
        "colab": {
          "base_uri": "https://localhost:8080/"
        },
        "id": "H0IDicKqRN3B",
        "outputId": "a35aa3a1-482b-44f2-f675-c76b04f6e004"
      },
      "execution_count": 12,
      "outputs": [
        {
          "output_type": "stream",
          "name": "stdout",
          "text": [
            "+--------------+-----------+-------------+-----------+----+-----------------+------------------+\n",
            "|     review_id|star_rating|helpful_votes|total_votes|vine|verified_purchase|     percent_votes|\n",
            "+--------------+-----------+-------------+-----------+----+-----------------+------------------+\n",
            "|R21KC552Y6HL8X|          1|           27|         31|   N|                Y|0.8709677419354839|\n",
            "| RX9WC9FTIR1XR|          5|           25|         25|   N|                Y|               1.0|\n",
            "| RGDCOU1KBHMNG|          3|           29|         31|   N|                Y|0.9354838709677419|\n",
            "| RVTYWID2TPMMY|          2|           35|         42|   N|                Y|0.8333333333333334|\n",
            "|R2CMPZ5VESGRLY|          4|           27|         28|   N|                Y|0.9642857142857143|\n",
            "|R3VQPJZ54B55BA|          5|           62|         64|   N|                N|           0.96875|\n",
            "|R24QM6D7FEDZ5M|          2|           36|         43|   N|                Y|0.8372093023255814|\n",
            "|R3A1VQ3SQDXEJ3|          5|           20|         20|   N|                Y|               1.0|\n",
            "|  R39GSNW76GYF|          1|           20|         23|   N|                Y|0.8695652173913043|\n",
            "| RPJLR6MFDPXXE|          5|           35|         36|   N|                Y|0.9722222222222222|\n",
            "|R34X0ZGVB3YGYO|          5|           47|         47|   N|                Y|               1.0|\n",
            "|R2C9O1BOV14Q0Z|          1|           62|         79|   N|                Y|0.7848101265822784|\n",
            "| RM6ZH5J3XDNHK|          5|           79|         87|   N|                Y|0.9080459770114943|\n",
            "|R2E363K75EMW4K|          5|           66|         69|   N|                Y|0.9565217391304348|\n",
            "|R2VJII8VKSJHDF|          1|           24|         29|   N|                N|0.8275862068965517|\n",
            "|R2U35Y2P27M13E|          1|           43|         45|   N|                Y|0.9555555555555556|\n",
            "| RLMZOQL11VHBX|          5|           23|         24|   N|                Y|0.9583333333333334|\n",
            "|R3C6CQQRRA8SYP|          5|           52|         58|   N|                Y| 0.896551724137931|\n",
            "|R3T7YOX0AEDZL3|          1|           45|         47|   N|                N|0.9574468085106383|\n",
            "|R176V3AYS3R4HG|          5|           26|         27|   N|                N|0.9629629629629629|\n",
            "+--------------+-----------+-------------+-----------+----+-----------------+------------------+\n",
            "only showing top 20 rows\n",
            "\n"
          ]
        }
      ]
    },
    {
      "cell_type": "code",
      "source": [
        "#retrieves all the rows where a review was written as part of the Vine program (paid), vine == 'Y'\n",
        "paid_df = helpful_votes.filter(col(\"vine\") == \"Y\").show()"
      ],
      "metadata": {
        "colab": {
          "base_uri": "https://localhost:8080/"
        },
        "id": "PiILhhilRN6o",
        "outputId": "16f192a6-3d66-430f-ff66-53e963c71776"
      },
      "execution_count": 44,
      "outputs": [
        {
          "output_type": "stream",
          "name": "stdout",
          "text": [
            "+--------------+-----------+-------------+-----------+----+-----------------+------------------+\n",
            "|     review_id|star_rating|helpful_votes|total_votes|vine|verified_purchase|     percent_votes|\n",
            "+--------------+-----------+-------------+-----------+----+-----------------+------------------+\n",
            "|R3A71VR1JZD8WF|          2|           27|         30|   Y|                N|               0.9|\n",
            "|R16OMUJIGI18JZ|          5|           72|         72|   Y|                N|               1.0|\n",
            "|R3TS8ZP2FHQ9XR|          5|           39|         42|   Y|                N|0.9285714285714286|\n",
            "|R2MHP919VZN7DI|          5|           29|         30|   Y|                N|0.9666666666666667|\n",
            "| RD2BCTVS59A5L|          2|           20|         20|   Y|                N|               1.0|\n",
            "|R1JUJLXQ2CMWKF|          4|           25|         26|   Y|                N|0.9615384615384616|\n",
            "|R2T7YE0IFI6N9L|          3|           24|         25|   Y|                N|              0.96|\n",
            "|R25FI3J7WWOYXM|          3|           55|         58|   Y|                N|0.9482758620689655|\n",
            "|R3P3U4EOWIUD50|          3|           27|         36|   Y|                N|              0.75|\n",
            "|R3C7MKX7MO6XUC|          5|          216|        219|   Y|                N|0.9863013698630136|\n",
            "|R1DFDDK1ZWKN3D|          2|           61|         65|   Y|                N|0.9384615384615385|\n",
            "|R38G7BRBA2LGGV|          3|           47|         54|   Y|                N|0.8703703703703703|\n",
            "|R2XQXWNEBSB9WO|          4|           52|         56|   Y|                N|0.9285714285714286|\n",
            "|R1UFK241B2KN48|          4|          375|        378|   Y|                N|0.9920634920634921|\n",
            "|R3H9CGK58BVHI5|          4|           42|         46|   Y|                N|0.9130434782608695|\n",
            "|R3FKBT77ZTUPLQ|          5|           15|         20|   Y|                N|              0.75|\n",
            "|R3NSXBUR3O1CE8|          5|           21|         22|   Y|                N|0.9545454545454546|\n",
            "|R13JI50KH7BTBU|          4|           29|         30|   Y|                N|0.9666666666666667|\n",
            "|R2LWQUQ6KB5ZN5|          4|           29|         36|   Y|                Y|0.8055555555555556|\n",
            "|R1JORBU2J7HG3H|          5|           22|         25|   Y|                N|              0.88|\n",
            "+--------------+-----------+-------------+-----------+----+-----------------+------------------+\n",
            "only showing top 20 rows\n",
            "\n"
          ]
        }
      ]
    },
    {
      "cell_type": "code",
      "source": [
        "# retrieves all the rows where a review was written as part of the Vine program (paid), vine == 'N'\n",
        "non_paid_df = helpful_votes.filter(col(\"vine\") == \"N\").show()"
      ],
      "metadata": {
        "colab": {
          "base_uri": "https://localhost:8080/"
        },
        "id": "v_hZdn3eTSyW",
        "outputId": "794c58a1-bb24-4249-eb62-3dc3bd159680"
      },
      "execution_count": 25,
      "outputs": [
        {
          "output_type": "stream",
          "name": "stdout",
          "text": [
            "+--------------+-----------+-------------+-----------+----+-----------------+------------------+\n",
            "|     review_id|star_rating|helpful_votes|total_votes|vine|verified_purchase|     percent_votes|\n",
            "+--------------+-----------+-------------+-----------+----+-----------------+------------------+\n",
            "|R21KC552Y6HL8X|          1|           27|         31|   N|                Y|0.8709677419354839|\n",
            "| RX9WC9FTIR1XR|          5|           25|         25|   N|                Y|               1.0|\n",
            "| RGDCOU1KBHMNG|          3|           29|         31|   N|                Y|0.9354838709677419|\n",
            "| RVTYWID2TPMMY|          2|           35|         42|   N|                Y|0.8333333333333334|\n",
            "|R2CMPZ5VESGRLY|          4|           27|         28|   N|                Y|0.9642857142857143|\n",
            "|R3VQPJZ54B55BA|          5|           62|         64|   N|                N|           0.96875|\n",
            "|R24QM6D7FEDZ5M|          2|           36|         43|   N|                Y|0.8372093023255814|\n",
            "|R3A1VQ3SQDXEJ3|          5|           20|         20|   N|                Y|               1.0|\n",
            "|  R39GSNW76GYF|          1|           20|         23|   N|                Y|0.8695652173913043|\n",
            "| RPJLR6MFDPXXE|          5|           35|         36|   N|                Y|0.9722222222222222|\n",
            "|R34X0ZGVB3YGYO|          5|           47|         47|   N|                Y|               1.0|\n",
            "|R2C9O1BOV14Q0Z|          1|           62|         79|   N|                Y|0.7848101265822784|\n",
            "| RM6ZH5J3XDNHK|          5|           79|         87|   N|                Y|0.9080459770114943|\n",
            "|R2E363K75EMW4K|          5|           66|         69|   N|                Y|0.9565217391304348|\n",
            "|R2VJII8VKSJHDF|          1|           24|         29|   N|                N|0.8275862068965517|\n",
            "|R2U35Y2P27M13E|          1|           43|         45|   N|                Y|0.9555555555555556|\n",
            "| RLMZOQL11VHBX|          5|           23|         24|   N|                Y|0.9583333333333334|\n",
            "|R3C6CQQRRA8SYP|          5|           52|         58|   N|                Y| 0.896551724137931|\n",
            "|R3T7YOX0AEDZL3|          1|           45|         47|   N|                N|0.9574468085106383|\n",
            "|R176V3AYS3R4HG|          5|           26|         27|   N|                N|0.9629629629629629|\n",
            "+--------------+-----------+-------------+-----------+----+-----------------+------------------+\n",
            "only showing top 20 rows\n",
            "\n"
          ]
        }
      ]
    },
    {
      "cell_type": "code",
      "source": [
        "# Determine the total number of reviews, the number of 5-star reviews, and the percentage of 5-star reviews for the two types of review (paid vs unpaid).\n",
        "from pyspark.sql.functions import count\n",
        "ratings_total_df = helpful_votes.groupBy(\"vine\").agg(\n",
        "    count(col(\"vine\")).alias(\"Total_Reviews\"),\n",
        "    count(when(col(\"star_rating\") == 5, True)).alias(\"Total_5_Star_Reviews\"),\n",
        "    (count(when(col(\"star_rating\") == 5, True))/count(col(\"vine\"))*100).alias(\"%_5_Star_To_Total\")).show()"
      ],
      "metadata": {
        "colab": {
          "base_uri": "https://localhost:8080/"
        },
        "id": "ELO59H4oTS47",
        "outputId": "f76bc41a-0098-4d31-8693-f7485d2a7414"
      },
      "execution_count": 51,
      "outputs": [
        {
          "output_type": "stream",
          "name": "stdout",
          "text": [
            "+----+-------------+--------------------+------------------+\n",
            "|vine|Total_Reviews|Total_5_Star_Reviews| %_5_Star_To_Total|\n",
            "+----+-------------+--------------------+------------------+\n",
            "|   Y|          170|                  65| 38.23529411764706|\n",
            "|   N|        37840|               20612|54.471458773784356|\n",
            "+----+-------------+--------------------+------------------+\n",
            "\n"
          ]
        }
      ]
    },
    {
      "cell_type": "code",
      "source": [],
      "metadata": {
        "id": "FU61pQ2ddFev"
      },
      "execution_count": null,
      "outputs": []
    },
    {
      "cell_type": "code",
      "source": [],
      "metadata": {
        "id": "AWl4_hjeTS_9"
      },
      "execution_count": null,
      "outputs": []
    },
    {
      "cell_type": "code",
      "source": [],
      "metadata": {
        "id": "zt-_EshITTD5"
      },
      "execution_count": null,
      "outputs": []
    }
  ]
}